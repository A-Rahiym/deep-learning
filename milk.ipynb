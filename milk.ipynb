{
 "cells": [
  {
   "cell_type": "code",
   "execution_count": 33,
   "metadata": {},
   "outputs": [],
   "source": [
    "import matplotlib.pyplot as plt \n",
    "import numpy as np\n",
    "import torch \n",
    "import torch.nn as nn \n",
    "import torch.optim as optim \n",
    "from torch.utils.data import DataLoader, TensorDataset\n",
    "from tqdm.auto import tqdm\n",
    "from sklearn.preprocessing import StandardScaler\n",
    "from sklearn.model_selection import train_test_split\n",
    "import matplotlib.pyplot as plt\n",
    "import pandas as pd\n",
    "from sklearn.preprocessing import LabelEncoder , MinMaxScaler\n",
    "from tqdm.auto import tqdm\n",
    "from helper_function import accuracy_fn"
   ]
  },
  {
   "cell_type": "code",
   "execution_count": 178,
   "metadata": {},
   "outputs": [],
   "source": [
    "import pandas as pd\n",
    "output_title = LabelEncoder()\n",
    "df = pd.read_csv(\"milknew_CF.csv\")\n",
    "df[\"Grade\"] = output_title.fit_transform(df[\"Grade\"])\n",
    "X = df[[\"pH\",\"Temprature\",\"Taste\",\"Odor\",\"Fat\",\"Turbidity\",\"Colour\"]].values\n",
    "y = df[\"Grade\"].values\n",
    "\n",
    "scaler = StandardScaler()\n",
    "X = scaler.fit_transform(X) \n",
    "\n",
    "X_train, X_test , y_train , y_test = train_test_split(X, y,test_size=0.2, random_state=1234)\n",
    "\n",
    "\n",
    "\n",
    "X_train = torch.from_numpy(X_train).type(torch.float)\n",
    "y_train = torch.from_numpy(y_train).type(torch.long)\n",
    "X_test = torch.from_numpy(X_test).type(torch.float)\n",
    "y_test = torch.from_numpy(y_test).type(torch.long)\n",
    "\n",
    "\n",
    "train_dataset = TensorDataset(X_train,y_train)\n",
    "test_dataset = TensorDataset(X_test,y_test)\n",
    "\n",
    "train_loader = DataLoader(train_dataset, batch_size=32, shuffle=True)\n",
    "test_loader = DataLoader(test_dataset, batch_size=32, shuffle=False)\n"
   ]
  },
  {
   "cell_type": "code",
   "execution_count": 114,
   "metadata": {},
   "outputs": [
    {
     "data": {
      "text/plain": [
       "(torch.Size([32, 7]), torch.Size([32]))"
      ]
     },
     "execution_count": 114,
     "metadata": {},
     "output_type": "execute_result"
    }
   ],
   "source": [
    "a , b = next(iter(train_loader))\n",
    "a.shape , b.shape"
   ]
  },
  {
   "cell_type": "code",
   "execution_count": 179,
   "metadata": {},
   "outputs": [],
   "source": [
    "class Milk_Model(nn.Module):\n",
    "    def __init__(self, input_features , \n",
    "                 output_features , \n",
    "                 hidden_units = 7 ):\n",
    "        super().__init__()\n",
    "        self.network = nn.Sequential(\n",
    "            nn.Linear(input_features ,hidden_units),\n",
    "            nn.ReLU(),\n",
    "            nn.Linear(hidden_units , output_features),\n",
    "\n",
    "        )\n",
    "    def forward(self,x):\n",
    "        return self.network(x)\n"
   ]
  },
  {
   "cell_type": "code",
   "execution_count": 181,
   "metadata": {},
   "outputs": [
    {
     "data": {
      "text/plain": [
       "Milk_Model(\n",
       "  (network): Sequential(\n",
       "    (0): Linear(in_features=7, out_features=7, bias=True)\n",
       "    (1): ReLU()\n",
       "    (2): Linear(in_features=7, out_features=3, bias=True)\n",
       "  )\n",
       ")"
      ]
     },
     "execution_count": 181,
     "metadata": {},
     "output_type": "execute_result"
    }
   ],
   "source": [
    "Model = Milk_Model(7,3)\n",
    "loss_fcn = nn.CrossEntropyLoss()\n",
    "optimizer = optim.Adam(params=Model.parameters(),lr=0.01)\n",
    "Model"
   ]
  },
  {
   "cell_type": "code",
   "execution_count": 182,
   "metadata": {},
   "outputs": [
    {
     "data": {
      "application/vnd.jupyter.widget-view+json": {
       "model_id": "0e6e88af4460424b87cb8b8d803eb729",
       "version_major": 2,
       "version_minor": 0
      },
      "text/plain": [
       "  0%|          | 0/100 [00:00<?, ?it/s]"
      ]
     },
     "metadata": {},
     "output_type": "display_data"
    },
    {
     "name": "stdout",
     "output_type": "stream",
     "text": [
      "<------------------------->\n",
      "Epoch 0, Train Acc: 30.4167\n",
      "<------------------------->\n",
      "Epoch 10, Train Acc: 31.5719\n",
      "<------------------------->\n",
      "Epoch 20, Train Acc: 31.5808\n",
      "<------------------------->\n",
      "Epoch 30, Train Acc: 31.1975\n",
      "<------------------------->\n",
      "Epoch 40, Train Acc: 31.7031\n",
      "<------------------------->\n",
      "Epoch 50, Train Acc: 31.0856\n",
      "<------------------------->\n",
      "Epoch 60, Train Acc: 31.3137\n",
      "<------------------------->\n",
      "Epoch 70, Train Acc: 31.7076\n",
      "<------------------------->\n",
      "Epoch 80, Train Acc: 31.4608\n",
      "<------------------------->\n",
      "Epoch 90, Train Acc: 31.4550\n",
      "Epoch: 100 |, loss : 1.2536 |, Acc: | 31.04% \n"
     ]
    }
   ],
   "source": [
    "epochs = 100\n",
    "train_acc , train_loss = 0 , 0\n",
    "for epoch in tqdm(range((epochs))):\n",
    "    Model.train()  \n",
    "    for X_train , y_train in train_loader:\n",
    "        pred = Model(X_train)\n",
    "        pred_prob = torch.softmax(pred,dim=1).argmax(dim=1)\n",
    "        loss = loss_fcn(pred,y_train)\n",
    "        train_loss += loss\n",
    "        train_acc += accuracy_fn(y_train,pred_prob)\n",
    "        loss.backward()\n",
    "        optimizer.zero_grad()\n",
    "        optimizer.step()\n",
    "        \n",
    "    \n",
    "    train_acc /= len(train_loader)\n",
    "    train_loss /= len(train_loader)\n",
    "    \n",
    "    if (epoch % 10 ) == 0 :\n",
    "        print(f\"<------------------------->\")\n",
    "        print(f'Epoch {epoch}, Train Acc: {train_acc:.4f}',)\n",
    "    \n",
    "\n",
    "print(f\"Epoch: {epoch + 1} |, loss : {loss:.4f} |, Acc: | {train_acc:.2f}% \")"
   ]
  },
  {
   "cell_type": "code",
   "execution_count": 158,
   "metadata": {},
   "outputs": [
    {
     "data": {
      "text/plain": [
       "(tensor([1, 0, 1, 1, 2, 2, 0, 1, 1, 2]),\n",
       " tensor([2, 0, 1, 1, 2, 2, 1, 1, 1, 2]))"
      ]
     },
     "execution_count": 158,
     "metadata": {},
     "output_type": "execute_result"
    }
   ],
   "source": [
    "y_train[:10] , pred_prob[:10]"
   ]
  }
 ],
 "metadata": {
  "kernelspec": {
   "display_name": "Python 3",
   "language": "python",
   "name": "python3"
  },
  "language_info": {
   "codemirror_mode": {
    "name": "ipython",
    "version": 3
   },
   "file_extension": ".py",
   "mimetype": "text/x-python",
   "name": "python",
   "nbconvert_exporter": "python",
   "pygments_lexer": "ipython3",
   "version": "3.11.1"
  }
 },
 "nbformat": 4,
 "nbformat_minor": 2
}
