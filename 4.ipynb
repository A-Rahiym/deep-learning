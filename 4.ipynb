{
 "cells": [
  {
   "cell_type": "code",
   "execution_count": 99,
   "metadata": {},
   "outputs": [],
   "source": [
    "import torch\n",
    "import torch.nn as nn\n",
    "import torch.optim as optim\n",
    "from sklearn.datasets import load_diabetes\n",
    "from sklearn.model_selection import train_test_split\n",
    "from sklearn.preprocessing import StandardScaler\n",
    "from sklearn.metrics import mean_squared_error, mean_absolute_error, r2_score\n",
    "import matplotlib.pyplot as plt\n",
    "import numpy as np\n"
   ]
  },
  {
   "cell_type": "code",
   "execution_count": 1,
   "metadata": {},
   "outputs": [
    {
     "ename": "NameError",
     "evalue": "name 'load_diabetes' is not defined",
     "output_type": "error",
     "traceback": [
      "\u001b[1;31m---------------------------------------------------------------------------\u001b[0m",
      "\u001b[1;31mNameError\u001b[0m                                 Traceback (most recent call last)",
      "Cell \u001b[1;32mIn[1], line 1\u001b[0m\n\u001b[1;32m----> 1\u001b[0m X, y \u001b[38;5;241m=\u001b[39m \u001b[43mload_diabetes\u001b[49m()\u001b[38;5;241m.\u001b[39mdata, load_diabetes()\u001b[38;5;241m.\u001b[39mtarget\n\u001b[0;32m      2\u001b[0m n_samples, n_features \u001b[38;5;241m=\u001b[39m X\u001b[38;5;241m.\u001b[39mshape\n\u001b[0;32m      3\u001b[0m X_train, X_test, y_train, y_test \u001b[38;5;241m=\u001b[39m train_test_split(X,y,test_size\u001b[38;5;241m=\u001b[39m\u001b[38;5;241m0.2\u001b[39m,random_state\u001b[38;5;241m=\u001b[39m\u001b[38;5;241m1234\u001b[39m) \n",
      "\u001b[1;31mNameError\u001b[0m: name 'load_diabetes' is not defined"
     ]
    }
   ],
   "source": [
    "X, y = load_diabetes().data, load_diabetes().target\n",
    "n_samples, n_features = X.shape\n",
    "X_train, X_test, y_train, y_test = train_test_split(X,y,test_size=0.2,random_state=1234) \n",
    "\n",
    "scalar = StandardScaler()\n",
    "\n",
    "X_train = scalar.fit_transform(X_train)\n",
    "X_test = scalar.transform(X_test)\n",
    "\n",
    "X_train = torch.tensor(X_train, dtype=torch.float)\n",
    "X_test = torch.tensor(X_test, dtype=torch.float)\n",
    "y_train = torch.tensor(y_train, dtype=torch.float).view(-1,1)\n",
    "y_test = torch.tensor(y_test, dtype=torch.float).view(-1,1)\n"
   ]
  },
  {
   "cell_type": "code",
   "execution_count": 101,
   "metadata": {},
   "outputs": [],
   "source": [
    "class LinearRegressionModel(nn.Module):\n",
    "    def __init__(self, input_dim, output_dim):\n",
    "       super().__init__()\n",
    "       self.linear = nn.Linear(input_dim,output_dim)\n",
    "    \n",
    "    def forward(self,x):\n",
    "        return self.linear(x)\n",
    "        "
   ]
  },
  {
   "cell_type": "code",
   "execution_count": 102,
   "metadata": {},
   "outputs": [],
   "source": [
    "Model = LinearRegressionModel(n_features , 1)\n",
    "Lossfcn = nn.MSELoss()\n",
    "optimizer = optim.SGD(Model.parameters(),lr=0.001)"
   ]
  },
  {
   "cell_type": "code",
   "execution_count": 103,
   "metadata": {},
   "outputs": [
    {
     "name": "stdout",
     "output_type": "stream",
     "text": [
      "epoch: 0 <-------> loss: 29070.3145\n",
      "epoch: 10 <-------> loss: 27829.8789\n",
      "epoch: 20 <-------> loss: 26669.8359\n",
      "epoch: 30 <-------> loss: 25582.2852\n",
      "epoch: 40 <-------> loss: 24560.3477\n",
      "epoch: 50 <-------> loss: 23598.0215\n",
      "epoch: 60 <-------> loss: 22690.0449\n",
      "epoch: 70 <-------> loss: 21831.8125\n",
      "epoch: 80 <-------> loss: 21019.2656\n",
      "epoch: 90 <-------> loss: 20248.8184\n",
      "epoch: 100 <-------> loss: 19517.2949\n",
      "epoch: 110 <-------> loss: 18821.8750\n",
      "epoch: 120 <-------> loss: 18160.0430\n",
      "epoch: 130 <-------> loss: 17529.5430\n",
      "epoch: 140 <-------> loss: 16928.3535\n",
      "epoch: 150 <-------> loss: 16354.6387\n",
      "epoch: 160 <-------> loss: 15806.7549\n",
      "epoch: 170 <-------> loss: 15283.1914\n",
      "epoch: 180 <-------> loss: 14782.5811\n",
      "epoch: 190 <-------> loss: 14303.6689\n",
      "epoch: 200 <-------> loss: 13845.2979\n",
      "epoch: 210 <-------> loss: 13406.4092\n",
      "epoch: 220 <-------> loss: 12986.0156\n",
      "epoch: 230 <-------> loss: 12583.2100\n",
      "epoch: 240 <-------> loss: 12197.1406\n",
      "epoch: 250 <-------> loss: 11827.0166\n",
      "epoch: 260 <-------> loss: 11472.0967\n",
      "epoch: 270 <-------> loss: 11131.6865\n",
      "epoch: 280 <-------> loss: 10805.1348\n",
      "epoch: 290 <-------> loss: 10491.8242\n",
      "epoch: 300 <-------> loss: 10191.1709\n",
      "epoch: 310 <-------> loss: 9902.6309\n",
      "epoch: 320 <-------> loss: 9625.6855\n",
      "epoch: 330 <-------> loss: 9359.8398\n",
      "epoch: 340 <-------> loss: 9104.6279\n",
      "epoch: 350 <-------> loss: 8859.5996\n",
      "epoch: 360 <-------> loss: 8624.3359\n",
      "epoch: 370 <-------> loss: 8398.4336\n",
      "epoch: 380 <-------> loss: 8181.5044\n",
      "epoch: 390 <-------> loss: 7973.1841\n",
      "epoch: 400 <-------> loss: 7773.1191\n",
      "epoch: 410 <-------> loss: 7580.9785\n",
      "epoch: 420 <-------> loss: 7396.4404\n",
      "epoch: 430 <-------> loss: 7219.1982\n",
      "epoch: 440 <-------> loss: 7048.9570\n",
      "epoch: 450 <-------> loss: 6885.4360\n",
      "epoch: 460 <-------> loss: 6728.3696\n",
      "epoch: 470 <-------> loss: 6577.4971\n",
      "epoch: 480 <-------> loss: 6432.5723\n",
      "epoch: 490 <-------> loss: 6293.3584\n",
      "epoch: 500 <-------> loss: 6159.6270\n",
      "epoch: 510 <-------> loss: 6031.1616\n",
      "epoch: 520 <-------> loss: 5907.7534\n",
      "epoch: 530 <-------> loss: 5789.2012\n",
      "epoch: 540 <-------> loss: 5675.3130\n",
      "epoch: 550 <-------> loss: 5565.9043\n",
      "epoch: 560 <-------> loss: 5460.8003\n",
      "epoch: 570 <-------> loss: 5359.8276\n",
      "epoch: 580 <-------> loss: 5262.8242\n",
      "epoch: 590 <-------> loss: 5169.6338\n",
      "epoch: 600 <-------> loss: 5080.1050\n",
      "epoch: 610 <-------> loss: 4994.0947\n",
      "epoch: 620 <-------> loss: 4911.4634\n",
      "epoch: 630 <-------> loss: 4832.0781\n",
      "epoch: 640 <-------> loss: 4755.8096\n",
      "epoch: 650 <-------> loss: 4682.5366\n",
      "epoch: 660 <-------> loss: 4612.1426\n",
      "epoch: 670 <-------> loss: 4544.5107\n",
      "epoch: 680 <-------> loss: 4479.5356\n",
      "epoch: 690 <-------> loss: 4417.1104\n",
      "epoch: 700 <-------> loss: 4357.1357\n",
      "epoch: 710 <-------> loss: 4299.5151\n",
      "epoch: 720 <-------> loss: 4244.1553\n",
      "epoch: 730 <-------> loss: 4190.9683\n",
      "epoch: 740 <-------> loss: 4139.8691\n",
      "epoch: 750 <-------> loss: 4090.7742\n",
      "epoch: 760 <-------> loss: 4043.6052\n",
      "epoch: 770 <-------> loss: 3998.2871\n",
      "epoch: 780 <-------> loss: 3954.7463\n",
      "epoch: 790 <-------> loss: 3912.9141\n",
      "epoch: 800 <-------> loss: 3872.7214\n",
      "epoch: 810 <-------> loss: 3834.1062\n",
      "epoch: 820 <-------> loss: 3797.0049\n",
      "epoch: 830 <-------> loss: 3761.3584\n",
      "epoch: 840 <-------> loss: 3727.1099\n",
      "epoch: 850 <-------> loss: 3694.2036\n",
      "epoch: 860 <-------> loss: 3662.5872\n",
      "epoch: 870 <-------> loss: 3632.2104\n",
      "epoch: 880 <-------> loss: 3603.0242\n",
      "epoch: 890 <-------> loss: 3574.9819\n",
      "epoch: 900 <-------> loss: 3548.0391\n",
      "epoch: 910 <-------> loss: 3522.1523\n",
      "epoch: 920 <-------> loss: 3497.2791\n",
      "epoch: 930 <-------> loss: 3473.3811\n",
      "epoch: 940 <-------> loss: 3450.4185\n",
      "epoch: 950 <-------> loss: 3428.3572\n",
      "epoch: 960 <-------> loss: 3407.1597\n",
      "epoch: 970 <-------> loss: 3386.7910\n",
      "epoch: 980 <-------> loss: 3367.2209\n",
      "epoch: 990 <-------> loss: 3348.4172\n"
     ]
    }
   ],
   "source": [
    "epoch_count = []\n",
    "train_loss = []\n",
    "Test_loss = [] \n",
    "\n",
    "epochs = 1000\n",
    "for epoch in range(epochs):\n",
    "    Model.train()\n",
    "    optimizer.zero_grad()\n",
    "    pred = Model(X_train)\n",
    "    loss = Lossfcn(pred,y_train)\n",
    "    loss.backward()\n",
    "    optimizer.step()\n",
    "\n",
    "    \n",
    "    with torch.inference_mode():\n",
    "        y_pred = Model(X_test)\n",
    "        test_loss = Lossfcn(y_pred,y_test)  \n",
    "    \n",
    "    if (epoch - 1) % 10 == 0:\n",
    "        print(f\"epoch: {epoch - 1} <-------> loss: {loss.item():.4f}\") \n",
    "        epoch_count.append(epoch)\n",
    "        train_loss.append(loss)\n",
    "        Test_loss.append(test_loss)  \n",
    "    "
   ]
  },
  {
   "cell_type": "code",
   "execution_count": 104,
   "metadata": {},
   "outputs": [
    {
     "name": "stdout",
     "output_type": "stream",
     "text": [
      "Test Loss: 3079.6531\n"
     ]
    }
   ],
   "source": [
    "Model.eval()\n",
    "with torch.no_grad():\n",
    "    predictions = Model(X_test)\n",
    "    test_loss = Lossfcn(predictions, y_test)\n",
    "    print(f'Test Loss: {test_loss.item():.4f}')"
   ]
  },
  {
   "cell_type": "code",
   "execution_count": 105,
   "metadata": {},
   "outputs": [
    {
     "data": {
      "text/plain": [
       "3079.6523"
      ]
     },
     "execution_count": 105,
     "metadata": {},
     "output_type": "execute_result"
    }
   ],
   "source": [
    "predictions_np = predictions.numpy()\n",
    "y_test_np = y_test.numpy()\n",
    "mse = mean_squared_error(predictions_np,y_test_np)\n",
    "r2 = r2_score(predictions_np,y_test_np)\n"
   ]
  },
  {
   "cell_type": "code",
   "execution_count": 106,
   "metadata": {},
   "outputs": [
    {
     "data": {
      "text/plain": [
       "<matplotlib.legend.Legend at 0x229b61a73d0>"
      ]
     },
     "execution_count": 106,
     "metadata": {},
     "output_type": "execute_result"
    },
    {
     "data": {
      "image/png": "[encoded data removed]",
      "text/plain": [
       "<Figure size 640x480 with 1 Axes>"
      ]
     },
     "metadata": {},
     "output_type": "display_data"
    }
   ],
   "source": [
    "plt.plot(epoch_count,np.array(torch.tensor(train_loss).cpu().numpy()),label=\"Train loss\")\n",
    "plt.plot(epoch_count,np.array(torch.tensor(Test_loss).cpu().numpy()),label=\"test_loss\")\n",
    "plt.title(\"training and test loss curves\")\n",
    "plt.ylabel(\"Loss\")\n",
    "plt.xlabel(\"Epoch\")\n",
    "plt.legend()"
   ]
  }
 ],
 "metadata": {
  "kernelspec": {
   "display_name": "Python 3",
   "language": "python",
   "name": "python3"
  },
  "language_info": {
   "codemirror_mode": {
    "name": "ipython",
    "version": 3
   },
   "file_extension": ".py",
   "mimetype": "text/x-python",
   "name": "python",
   "nbconvert_exporter": "python",
   "pygments_lexer": "ipython3",
   "version": "3.11.1"
  }
 },
 "nbformat": 4,
 "nbformat_minor": 2
}
