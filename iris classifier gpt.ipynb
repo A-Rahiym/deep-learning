{
 "cells": [
  {
   "cell_type": "code",
   "execution_count": 1,
   "metadata": {},
   "outputs": [],
   "source": [
    "import torch\n",
    "import torch.nn as nn    \n",
    "import torch.optim as optim\n",
    "from torch.utils.data import DataLoader, TensorDataset\n",
    "from sklearn.datasets import load_iris\n",
    "from sklearn.model_selection import train_test_split\n",
    "from sklearn.preprocessing import StandardScaler\n",
    "import numpy as np\n"
   ]
  },
  {
   "cell_type": "code",
   "execution_count": 2,
   "metadata": {},
   "outputs": [
    {
     "name": "stdout",
     "output_type": "stream",
     "text": [
      "torch.Size([16, 4])------torch.Size([16])\n",
      "torch.Size([16, 4])------torch.Size([16])\n",
      "torch.Size([16, 4])------torch.Size([16])\n",
      "torch.Size([16, 4])------torch.Size([16])\n",
      "torch.Size([16, 4])------torch.Size([16])\n",
      "torch.Size([16, 4])------torch.Size([16])\n",
      "torch.Size([16, 4])------torch.Size([16])\n",
      "torch.Size([8, 4])------torch.Size([8])\n"
     ]
    }
   ],
   "source": [
    "X,y = load_iris().data, load_iris().target\n",
    "scaler = StandardScaler()\n",
    "X = scaler.fit_transform(X)\n",
    "X_train, X_test, y_train, y_test = train_test_split(X, y, test_size=0.2, random_state=42)\n",
    "\n",
    "X_train = torch.tensor(X_train,dtype=torch.float32)\n",
    "y_train = torch.tensor(y_train,dtype=torch.long)\n",
    "X_test = torch.tensor(X_test,dtype=torch.float32)\n",
    "y_test = torch.tensor(y_test,dtype=torch.long)\n",
    "\n",
    "train_dataset = TensorDataset(X_train, y_train)\n",
    "test_dataset = TensorDataset(X_test, y_test)\n",
    "\n",
    "train_loader = DataLoader(train_dataset, batch_size=16, shuffle=True)\n",
    "test_loader = DataLoader(test_dataset, batch_size=16, shuffle=False)\n",
    "\n",
    "for i,(inputs,labels) in enumerate(train_loader):\n",
    "    print(f\"{inputs.shape}------{labels.shape}\")\n",
    "    \n"
   ]
  },
  {
   "cell_type": "code",
   "execution_count": null,
   "metadata": {},
   "outputs": [],
   "source": []
  },
  {
   "cell_type": "code",
   "execution_count": 3,
   "metadata": {},
   "outputs": [],
   "source": [
    "class IrisNet(nn.Module):\n",
    "    def __init__(self, *args, **kwargs) -> None:\n",
    "        super().__init__(*args, **kwargs)\n",
    "        self.fc1 = nn.Linear(4,3)\n",
    "    def forward(self,x):\n",
    "        x = self.fc1(x)\n",
    "        return x"
   ]
  },
  {
   "cell_type": "code",
   "execution_count": 4,
   "metadata": {},
   "outputs": [],
   "source": [
    "model = IrisNet()\n",
    "loss_fcn = nn.CrossEntropyLoss()\n",
    "optimizer = optim.SGD(model.parameters(),lr=0.01,momentum=0.9)"
   ]
  },
  {
   "cell_type": "code",
   "execution_count": 5,
   "metadata": {},
   "outputs": [
    {
     "name": "stdout",
     "output_type": "stream",
     "text": [
      "Epoch [1/100], | Loss: 1.1238, | training_accuracy: 38.33%\n",
      "Epoch [2/100], | Loss: 0.8101, | training_accuracy: 50.83%\n",
      "Epoch [3/100], | Loss: 0.5780, | training_accuracy: 62.22%\n",
      "Epoch [4/100], | Loss: 0.4773, | training_accuracy: 68.33%\n",
      "Epoch [5/100], | Loss: 0.4281, | training_accuracy: 71.67%\n",
      "Epoch [6/100], | Loss: 0.4011, | training_accuracy: 73.89%\n",
      "Epoch [7/100], | Loss: 0.3818, | training_accuracy: 75.60%\n",
      "Epoch [8/100], | Loss: 0.3679, | training_accuracy: 76.98%\n",
      "Epoch [9/100], | Loss: 0.3569, | training_accuracy: 77.96%\n",
      "Epoch [10/100], | Loss: 0.3462, | training_accuracy: 78.83%\n",
      "Epoch [11/100], | Loss: 0.3372, | training_accuracy: 79.77%\n",
      "Epoch [12/100], | Loss: 0.3288, | training_accuracy: 80.62%\n",
      "Epoch [13/100], | Loss: 0.3212, | training_accuracy: 81.41%\n",
      "Epoch [14/100], | Loss: 0.3164, | training_accuracy: 82.08%\n",
      "Epoch [15/100], | Loss: 0.3074, | training_accuracy: 82.72%\n",
      "Epoch [16/100], | Loss: 0.3025, | training_accuracy: 83.28%\n",
      "Epoch [17/100], | Loss: 0.2965, | training_accuracy: 83.77%\n",
      "Epoch [18/100], | Loss: 0.2908, | training_accuracy: 84.21%\n",
      "Epoch [19/100], | Loss: 0.2859, | training_accuracy: 84.61%\n",
      "Epoch [20/100], | Loss: 0.2807, | training_accuracy: 84.96%\n",
      "Epoch [21/100], | Loss: 0.2763, | training_accuracy: 85.28%\n",
      "Epoch [22/100], | Loss: 0.2715, | training_accuracy: 85.61%\n",
      "Epoch [23/100], | Loss: 0.2675, | training_accuracy: 85.94%\n",
      "Epoch [24/100], | Loss: 0.2633, | training_accuracy: 86.25%\n",
      "Epoch [25/100], | Loss: 0.2594, | training_accuracy: 86.53%\n",
      "Epoch [26/100], | Loss: 0.2554, | training_accuracy: 86.79%\n",
      "Epoch [27/100], | Loss: 0.2514, | training_accuracy: 87.04%\n",
      "Epoch [28/100], | Loss: 0.2480, | training_accuracy: 87.29%\n",
      "Epoch [29/100], | Loss: 0.2443, | training_accuracy: 87.53%\n",
      "Epoch [30/100], | Loss: 0.2411, | training_accuracy: 87.75%\n",
      "Epoch [31/100], | Loss: 0.2377, | training_accuracy: 87.98%\n",
      "Epoch [32/100], | Loss: 0.2347, | training_accuracy: 88.20%\n",
      "Epoch [33/100], | Loss: 0.2317, | training_accuracy: 88.41%\n",
      "Epoch [34/100], | Loss: 0.2288, | training_accuracy: 88.60%\n",
      "Epoch [35/100], | Loss: 0.2260, | training_accuracy: 88.79%\n",
      "Epoch [36/100], | Loss: 0.2233, | training_accuracy: 88.96%\n",
      "Epoch [37/100], | Loss: 0.2208, | training_accuracy: 89.12%\n",
      "Epoch [38/100], | Loss: 0.2181, | training_accuracy: 89.28%\n",
      "Epoch [39/100], | Loss: 0.2159, | training_accuracy: 89.42%\n",
      "Epoch [40/100], | Loss: 0.2139, | training_accuracy: 89.56%\n",
      "Epoch [41/100], | Loss: 0.2111, | training_accuracy: 89.72%\n",
      "Epoch [42/100], | Loss: 0.2092, | training_accuracy: 89.86%\n",
      "Epoch [43/100], | Loss: 0.2068, | training_accuracy: 89.98%\n",
      "Epoch [44/100], | Loss: 0.2047, | training_accuracy: 90.09%\n",
      "Epoch [45/100], | Loss: 0.2027, | training_accuracy: 90.20%\n",
      "Epoch [46/100], | Loss: 0.2006, | training_accuracy: 90.31%\n",
      "Epoch [47/100], | Loss: 0.1986, | training_accuracy: 90.41%\n",
      "Epoch [48/100], | Loss: 0.1967, | training_accuracy: 90.52%\n",
      "Epoch [49/100], | Loss: 0.1949, | training_accuracy: 90.63%\n",
      "Epoch [50/100], | Loss: 0.1931, | training_accuracy: 90.73%\n",
      "Epoch [51/100], | Loss: 0.1913, | training_accuracy: 90.83%\n",
      "Epoch [52/100], | Loss: 0.1895, | training_accuracy: 90.93%\n",
      "Epoch [53/100], | Loss: 0.1881, | training_accuracy: 91.02%\n",
      "Epoch [54/100], | Loss: 0.1864, | training_accuracy: 91.11%\n",
      "Epoch [55/100], | Loss: 0.1848, | training_accuracy: 91.20%\n",
      "Epoch [56/100], | Loss: 0.1834, | training_accuracy: 91.28%\n",
      "Epoch [57/100], | Loss: 0.1822, | training_accuracy: 91.36%\n",
      "Epoch [58/100], | Loss: 0.1807, | training_accuracy: 91.44%\n",
      "Epoch [59/100], | Loss: 0.1791, | training_accuracy: 91.51%\n",
      "Epoch [60/100], | Loss: 0.1775, | training_accuracy: 91.58%\n",
      "Epoch [61/100], | Loss: 0.1762, | training_accuracy: 91.65%\n",
      "Epoch [62/100], | Loss: 0.1748, | training_accuracy: 91.72%\n",
      "Epoch [63/100], | Loss: 0.1737, | training_accuracy: 91.79%\n",
      "Epoch [64/100], | Loss: 0.1724, | training_accuracy: 91.85%\n",
      "Epoch [65/100], | Loss: 0.1717, | training_accuracy: 91.91%\n",
      "Epoch [66/100], | Loss: 0.1702, | training_accuracy: 91.97%\n",
      "Epoch [67/100], | Loss: 0.1685, | training_accuracy: 92.04%\n",
      "Epoch [68/100], | Loss: 0.1674, | training_accuracy: 92.10%\n",
      "Epoch [69/100], | Loss: 0.1663, | training_accuracy: 92.16%\n",
      "Epoch [70/100], | Loss: 0.1653, | training_accuracy: 92.21%\n",
      "Epoch [71/100], | Loss: 0.1641, | training_accuracy: 92.28%\n",
      "Epoch [72/100], | Loss: 0.1630, | training_accuracy: 92.34%\n",
      "Epoch [73/100], | Loss: 0.1619, | training_accuracy: 92.40%\n",
      "Epoch [74/100], | Loss: 0.1608, | training_accuracy: 92.45%\n",
      "Epoch [75/100], | Loss: 0.1598, | training_accuracy: 92.51%\n",
      "Epoch [76/100], | Loss: 0.1588, | training_accuracy: 92.57%\n",
      "Epoch [77/100], | Loss: 0.1579, | training_accuracy: 92.62%\n",
      "Epoch [78/100], | Loss: 0.1570, | training_accuracy: 92.67%\n",
      "Epoch [79/100], | Loss: 0.1559, | training_accuracy: 92.72%\n",
      "Epoch [80/100], | Loss: 0.1550, | training_accuracy: 92.77%\n",
      "Epoch [81/100], | Loss: 0.1541, | training_accuracy: 92.82%\n",
      "Epoch [82/100], | Loss: 0.1531, | training_accuracy: 92.87%\n",
      "Epoch [83/100], | Loss: 0.1523, | training_accuracy: 92.91%\n",
      "Epoch [84/100], | Loss: 0.1513, | training_accuracy: 92.96%\n",
      "Epoch [85/100], | Loss: 0.1505, | training_accuracy: 93.00%\n",
      "Epoch [86/100], | Loss: 0.1500, | training_accuracy: 93.04%\n",
      "Epoch [87/100], | Loss: 0.1490, | training_accuracy: 93.08%\n",
      "Epoch [88/100], | Loss: 0.1480, | training_accuracy: 93.12%\n",
      "Epoch [89/100], | Loss: 0.1471, | training_accuracy: 93.16%\n",
      "Epoch [90/100], | Loss: 0.1463, | training_accuracy: 93.20%\n",
      "Epoch [91/100], | Loss: 0.1458, | training_accuracy: 93.24%\n",
      "Epoch [92/100], | Loss: 0.1448, | training_accuracy: 93.28%\n",
      "Epoch [93/100], | Loss: 0.1440, | training_accuracy: 93.32%\n",
      "Epoch [94/100], | Loss: 0.1434, | training_accuracy: 93.35%\n",
      "Epoch [95/100], | Loss: 0.1426, | training_accuracy: 93.39%\n",
      "Epoch [96/100], | Loss: 0.1419, | training_accuracy: 93.42%\n",
      "Epoch [97/100], | Loss: 0.1412, | training_accuracy: 93.45%\n",
      "Epoch [98/100], | Loss: 0.1405, | training_accuracy: 93.49%\n",
      "Epoch [99/100], | Loss: 0.1398, | training_accuracy: 93.52%\n",
      "Epoch [100/100], | Loss: 0.1392, | training_accuracy: 93.55%\n"
     ]
    }
   ],
   "source": [
    "epochs = 100\n",
    "correct = 0\n",
    "total = 0\n",
    "for epoch in range(epochs):\n",
    "    model.train()\n",
    "    running_loss = 0.0\n",
    "    \n",
    "    for inputs, labels in train_loader:\n",
    "        \n",
    "        optimizer.zero_grad()\n",
    "        \n",
    "        outputs = model(inputs)\n",
    "        \n",
    "        _,predicted = torch.max(outputs.data,1)\n",
    "        correct += (predicted == labels).sum().item()\n",
    "        total += labels.size(0)\n",
    "        train_acc = correct/total * 100\n",
    "        \n",
    "        loss = loss_fcn(outputs,labels)\n",
    "        \n",
    "        loss.backward()\n",
    "        optimizer.step()\n",
    "        running_loss+= loss.item() * inputs.size(0)\n",
    "        \n",
    "    epoch_loss = running_loss / len(train_loader.dataset)\n",
    "    print(f'Epoch [{epoch + 1}/{epochs}], | Loss: {epoch_loss:.4f}, | training_accuracy: {train_acc:.2f}%')"
   ]
  },
  {
   "cell_type": "code",
   "execution_count": 6,
   "metadata": {},
   "outputs": [
    {
     "data": {
      "text/plain": [
       "tensor(7.8555, grad_fn=<MaxBackward1>)"
      ]
     },
     "execution_count": 6,
     "metadata": {},
     "output_type": "execute_result"
    }
   ],
   "source": [
    "torch.max(outputs)"
   ]
  },
  {
   "cell_type": "code",
   "execution_count": 9,
   "metadata": {},
   "outputs": [
    {
     "name": "stdout",
     "output_type": "stream",
     "text": [
      "Test Accuracy: 100.00%\n"
     ]
    }
   ],
   "source": [
    "# Evaluate the model on the test set\n",
    "model.eval()  # Set the model to evaluation mode\n",
    "correct = 0\n",
    "total = 0\n",
    "with torch.no_grad():\n",
    "    for inputs, labels in test_loader:\n",
    "        outputs = model(inputs)\n",
    "        _ , predicted = torch.max(outputs.data, 1)  # Get the index of the max logit\n",
    "        total += labels.size(0)\n",
    "        correct += (predicted == labels).sum().item()\n",
    "acc = (correct / total) * 100  \n",
    "print(f'Test Accuracy: {acc:.2f}%')\n",
    "\n"
   ]
  },
  {
   "cell_type": "code",
   "execution_count": 8,
   "metadata": {},
   "outputs": [],
   "source": [
    "from helper_function import plot_decision_boundary"
   ]
  },
  {
   "cell_type": "code",
   "execution_count": null,
   "metadata": {},
   "outputs": [],
   "source": []
  }
 ],
 "metadata": {
  "kernelspec": {
   "display_name": "Python 3",
   "language": "python",
   "name": "python3"
  },
  "language_info": {
   "codemirror_mode": {
    "name": "ipython",
    "version": 3
   },
   "file_extension": ".py",
   "mimetype": "text/x-python",
   "name": "python",
   "nbconvert_exporter": "python",
   "pygments_lexer": "ipython3",
   "version": "3.11.1"
  }
 },
 "nbformat": 4,
 "nbformat_minor": 2
}
