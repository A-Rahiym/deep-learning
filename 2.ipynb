{
 "cells": [
  {
   "cell_type": "code",
   "execution_count": 2,
   "metadata": {},
   "outputs": [],
   "source": [
    "import torch\n",
    "import matplotlib.pyplot as plt\n",
    "import numpy as np"
   ]
  },
  {
   "cell_type": "code",
   "execution_count": 93,
   "metadata": {},
   "outputs": [
    {
     "data": {
      "text/plain": [
       "torch.Size([50])"
      ]
     },
     "execution_count": 93,
     "metadata": {},
     "output_type": "execute_result"
    }
   ],
   "source": [
    "weight = 0.7\n",
    "bias = 0.3\n",
    "start = 0\n",
    "\n",
    "end = 1\n",
    "step = 0.02\n",
    "X = torch.arange(start,end,step)\n",
    "y = weight * X + bias\n"
   ]
  },
  {
   "cell_type": "code",
   "execution_count": 100,
   "metadata": {},
   "outputs": [
    {
     "name": "stdout",
     "output_type": "stream",
     "text": [
      "torch.Size([40, 1]) 2\n",
      "torch.Size([40, 1]) 2\n",
      "torch.Size([10, 1]) 2\n",
      "torch.Size([10, 1]) 2\n"
     ]
    }
   ],
   "source": [
    "train_split = int(0.8 * len(X))\n",
    "X_train, y_train = X[:train_split],y[:train_split]\n",
    "X_test, y_test = X[train_split:], y[train_split:]\n",
    "\n",
    "\n",
    "\n",
    "# X and y were 1d first since x is a feature, it is transformed to a 2d array of n rows and one column\n",
    "X_train = X_train.view(-1,1)\n",
    "y_train = y_train.view(-1,1)\n",
    "X_test = X_test.view(-1,1)\n",
    "y_test = y_test.view(-1,1)\n",
    "n_features = X_train.shape[1]\n",
    "\n",
    "\n",
    "print(X_train.shape,X_train.ndim)\n",
    "print(y_train.shape,y_train.ndim)\n",
    "print(X_test.shape,X_test.ndim)\n",
    "print(y_test.shape,y_test.ndim)\n",
    "\n",
    "\n"
   ]
  },
  {
   "cell_type": "code",
   "execution_count": 101,
   "metadata": {},
   "outputs": [],
   "source": [
    "from torch import nn\n",
    "class LinearRegressionModel(nn.Module):\n",
    "    def __init__(self,n_features):\n",
    "        super().__init__()\n",
    "        self.weights = nn.Parameter(torch.randn(1,requires_grad=True,dtype=torch.float))\n",
    "        self.bias = nn.Parameter(torch.randn(1,requires_grad=True,dtype=torch.float))    \n",
    "        self.linear = nn.Linear(n_features,1)\n",
    "    # defining computation in the model\n",
    "    def forward(self,x: torch.Tensor) -> torch.tensor: \n",
    "        #return self.weights * x + self.bias\n",
    "        return self.linear(x)"
   ]
  },
  {
   "cell_type": "code",
   "execution_count": 102,
   "metadata": {},
   "outputs": [
    {
     "data": {
      "text/plain": [
       "OrderedDict([('weights', tensor([0.3367])),\n",
       "             ('bias', tensor([0.1288])),\n",
       "             ('linear.weight', tensor([[-0.2191]])),\n",
       "             ('linear.bias', tensor([0.2018]))])"
      ]
     },
     "execution_count": 102,
     "metadata": {},
     "output_type": "execute_result"
    }
   ],
   "source": [
    "torch.manual_seed(42)\n",
    "Model_0 = LinearRegressionModel(n_features)\n",
    "loss_fcn = nn.L1Loss()\n",
    "optimizer = torch.optim.SGD(params=Model_0.parameters(),\n",
    "                         lr=0.01)\n",
    "Model_0.state_dict()"
   ]
  },
  {
   "cell_type": "code",
   "execution_count": 104,
   "metadata": {},
   "outputs": [
    {
     "name": "stdout",
     "output_type": "stream",
     "text": [
      "Epoch:0 | loss:0.1262269765138626 | Test loss:0.3064868152141571\n",
      "Epoch:10 | loss:0.12273695319890976 | Test loss:0.2954670786857605\n",
      "Epoch:20 | loss:0.1192469447851181 | Test loss:0.2844472825527191\n",
      "Epoch:30 | loss:0.11575692892074585 | Test loss:0.2734275460243225\n",
      "Epoch:40 | loss:0.1122669205069542 | Test loss:0.26240772008895874\n",
      "Epoch:50 | loss:0.10881532728672028 | Test loss:0.2534485459327698\n",
      "Epoch:60 | loss:0.10538208484649658 | Test loss:0.24586312472820282\n",
      "Epoch:70 | loss:0.1019505113363266 | Test loss:0.23759083449840546\n",
      "Epoch:80 | loss:0.0985116958618164 | Test loss:0.2293184995651245\n",
      "Epoch:90 | loss:0.09508013725280762 | Test loss:0.22173301875591278\n",
      "torch.Size([40, 1])-------torch.Size([40, 1])\n"
     ]
    }
   ],
   "source": [
    "epochs = 100\n",
    "epoch_count = []\n",
    "train_loss = []\n",
    "Test_loss = []\n",
    "\n",
    "# training loop\n",
    "for epoch in range(epochs):\n",
    "    # model in training mode\n",
    "   Model_0.train() # train mode in pytorch sets all parameters that requires gradient\n",
    "   # 1. Forward pass\n",
    "   y_pred = Model_0(X_train)\n",
    "   # 2. loss fcn calcultaion\n",
    "   loss = loss_fcn(y_pred,y_train)\n",
    "   # 3. optimizer zero grad \n",
    "   optimizer.zero_grad()\n",
    "   # 4. perform backward propagation on the loss with respect to the parameters of the model\n",
    "   loss.backward() \n",
    "   #5  i.e how the changes in the optimizer will accumulate through the loop\n",
    "       # they have to b ezero above step three \n",
    "   optimizer.step()\n",
    "   \n",
    "   \n",
    "   ###---------------------------------------Testing------------------------------------###\n",
    "\n",
    "   # test should occur foe each epoch\n",
    "   Model_0.eval() # turn off settings not necessary for evaluation\n",
    "   with torch.inference_mode():\n",
    "        # 1. test prediction\n",
    "        test_pred = Model_0(X_test)\n",
    "        # 2. claculate the loss \n",
    "        test_loss = loss_fcn(test_pred,y_test)\n",
    "   \n",
    "   #print(f\"loss:{loss} \")     \n",
    "   if epoch % 10 == 0:\n",
    "        epoch_count.append(epoch)\n",
    "        train_loss.append(loss)\n",
    "        Test_loss.append(test_loss)\n",
    "        \n",
    "        print(f\"Epoch:{epoch} | loss:{loss} | Test loss:{test_loss}\")\n",
    "\n",
    "print(f\"{y_pred.shape}-------{y_train.shape}\")\n",
    "    "
   ]
  },
  {
   "cell_type": "code",
   "execution_count": 65,
   "metadata": {},
   "outputs": [
    {
     "data": {
      "text/plain": [
       "<matplotlib.legend.Legend at 0x25f73c8c650>"
      ]
     },
     "execution_count": 65,
     "metadata": {},
     "output_type": "execute_result"
    },
    {
     "data": {
      "image/png": "[encoded data removed]",
      "text/plain": [
       "<Figure size 640x480 with 1 Axes>"
      ]
     },
     "metadata": {},
     "output_type": "display_data"
    }
   ],
   "source": [
    "# plot of loss curve\n",
    "plt.plot(epoch_count,np.array(torch.tensor(train_loss).cpu().numpy()),label=\"Train loss\")\n",
    "plt.plot(epoch_count,np.array(torch.tensor(Test_loss).cpu().numpy()),label=\"test_loss\")\n",
    "plt.title(\"training and test loss curves\")\n",
    "plt.ylabel(\"Loss\")\n",
    "plt.xlabel(\"Epoch\")\n",
    "plt.legend()\n"
   ]
  },
  {
   "cell_type": "code",
   "execution_count": 66,
   "metadata": {},
   "outputs": [
    {
     "data": {
      "text/plain": [
       "OrderedDict([('weights', tensor([0.3367])),\n",
       "             ('bias', tensor([0.1288])),\n",
       "             ('linear.weight', tensor([[0.5857]])),\n",
       "             ('linear.bias', tensor([0.3478]))])"
      ]
     },
     "execution_count": 66,
     "metadata": {},
     "output_type": "execute_result"
    }
   ],
   "source": [
    "with torch.inference_mode():\n",
    "    y_preds_new = Model_0(X_test)\n",
    "\n",
    "Model_0.state_dict()"
   ]
  },
  {
   "cell_type": "code",
   "execution_count": null,
   "metadata": {},
   "outputs": [],
   "source": [
    "# saving pytorch model\n",
    "\n",
    "from pathlib import Path\n",
    "\n",
    "Model_path = Path(\"models\")\n",
    "Model_path.mkdir(parents=True,exist_ok=True)\n",
    "Model_save_path = Model_path / Model_Name"
   ]
  }
 ],
 "metadata": {
  "kernelspec": {
   "display_name": "Python 3",
   "language": "python",
   "name": "python3"
  },
  "language_info": {
   "codemirror_mode": {
    "name": "ipython",
    "version": 3
   },
   "file_extension": ".py",
   "mimetype": "text/x-python",
   "name": "python",
   "nbconvert_exporter": "python",
   "pygments_lexer": "ipython3",
   "version": "3.11.1"
  }
 },
 "nbformat": 4,
 "nbformat_minor": 2
}
