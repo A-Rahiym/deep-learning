{
 "cells": [
  {
   "cell_type": "code",
   "execution_count": 2,
   "metadata": {},
   "outputs": [],
   "source": [
    "import torch\n",
    "import matplotlib.pyplot as plt\n",
    "import numpy as np"
   ]
  },
  {
   "cell_type": "code",
   "execution_count": 3,
   "metadata": {},
   "outputs": [],
   "source": [
    "weight = 0.7\n",
    "bias = 0.3\n",
    "start = 0\n",
    "\n",
    "end = 1\n",
    "step = 0.02\n",
    "X = torch.arange(start,end,step)\n",
    "y = weight * X + bias\n"
   ]
  },
  {
   "cell_type": "code",
   "execution_count": 4,
   "metadata": {},
   "outputs": [
    {
     "name": "stdout",
     "output_type": "stream",
     "text": [
      "torch.Size([40, 1]) 2\n",
      "torch.Size([40, 1]) 2\n",
      "torch.Size([10, 1]) 2\n",
      "torch.Size([10, 1]) 2\n"
     ]
    }
   ],
   "source": [
    "train_split = int(0.8 * len(X))\n",
    "X_train, y_train = X[:train_split],y[:train_split]\n",
    "X_test, y_test = X[train_split:], y[train_split:]\n",
    "\n",
    "\n",
    "\n",
    "# X and y were 1d first since x is a feature, it is transformed to a 2d array of n rows and one column\n",
    "X_train = X_train.view(-1,1)\n",
    "y_train = y_train.view(-1,1)\n",
    "X_test = X_test.view(-1,1)\n",
    "y_test = y_test.view(-1,1)\n",
    "n_features = X_train.shape[1]\n",
    "\n",
    "\n",
    "print(X_train.shape,X_train.ndim)\n",
    "print(y_train.shape,y_train.ndim)\n",
    "print(X_test.shape,X_test.ndim)\n",
    "print(y_test.shape,y_test.ndim)\n",
    "\n",
    "\n"
   ]
  },
  {
   "cell_type": "code",
   "execution_count": 5,
   "metadata": {},
   "outputs": [],
   "source": [
    "from torch import nn\n",
    "class LinearRegressionModel(nn.Module):\n",
    "    def __init__(self,n_features):\n",
    "        super().__init__()\n",
    "        self.weights = nn.Parameter(torch.randn(1,requires_grad=True,dtype=torch.float))\n",
    "        self.bias = nn.Parameter(torch.randn(1,requires_grad=True,dtype=torch.float))    \n",
    "        self.linear = nn.Linear(n_features,1)\n",
    "    # defining computation in the model\n",
    "    def forward(self,x: torch.Tensor) -> torch.tensor: \n",
    "        #return self.weights * x + self.bias\n",
    "        return self.linear(x)"
   ]
  },
  {
   "cell_type": "code",
   "execution_count": 6,
   "metadata": {},
   "outputs": [
    {
     "data": {
      "text/plain": [
       "OrderedDict([('weights', tensor([0.3367])),\n",
       "             ('bias', tensor([0.1288])),\n",
       "             ('linear.weight', tensor([[-0.2191]])),\n",
       "             ('linear.bias', tensor([0.2018]))])"
      ]
     },
     "execution_count": 6,
     "metadata": {},
     "output_type": "execute_result"
    }
   ],
   "source": [
    "torch.manual_seed(42)\n",
    "Model_0 = LinearRegressionModel(n_features)\n",
    "loss_fcn = nn.L1Loss()\n",
    "optimizer = torch.optim.SGD(params=Model_0.parameters(),\n",
    "                         lr=0.01)\n",
    "Model_0.state_dict()"
   ]
  },
  {
   "cell_type": "code",
   "execution_count": 7,
   "metadata": {},
   "outputs": [],
   "source": [
    "def accuracy(y_true,y_pred):\n",
    "    correct = torch.eq(y_true,torch.round(y_pred)).sum().item()\n",
    "    acc = (correct/len(y_pred)) * 100 \n",
    "    return acc"
   ]
  },
  {
   "cell_type": "code",
   "execution_count": 20,
   "metadata": {},
   "outputs": [
    {
     "name": "stdout",
     "output_type": "stream",
     "text": [
      "torch.Size([40, 1])-------torch.Size([40, 1])\n",
      "tensor([0.3000])------tensor([0.3088], grad_fn=<SelectBackward0>)\n"
     ]
    },
    {
     "data": {
      "text/plain": [
       "tensor([False])"
      ]
     },
     "execution_count": 20,
     "metadata": {},
     "output_type": "execute_result"
    }
   ],
   "source": [
    "epochs = 100\n",
    "epoch_count = []\n",
    "train_loss = []\n",
    "Test_loss = []\n",
    "\n",
    "# training loop\n",
    "for epoch in range(epochs):\n",
    "    # model in training mode\n",
    "   Model_0.train() # train mode in pytorch sets all parameters that requires gradient\n",
    "   # 1. Forward pass\n",
    "   y_pred = Model_0(X_train)\n",
    "   \n",
    "   # 2. loss fcn calcultaion\n",
    "   loss = loss_fcn(y_pred,y_train)\n",
    "   \n",
    "\n",
    "   \n",
    "   # 3. optimizer zero grad \n",
    "   optimizer.zero_grad()\n",
    "   \n",
    "   # 4. perform backward propagation on the loss with respect to the parameters of the model\n",
    "   loss.backward() \n",
    "   \n",
    "   #5  i.e how the changes in the optimizer will accumulate through the loop\n",
    "       # they have to b ezero above step three \n",
    "   optimizer.step()\n",
    "   \n",
    "   \n",
    "   ###---------------------------------------Testing------------------------------------###\n",
    "\n",
    "   # test should occur foe each epoch\n",
    "   Model_0.eval() # turn off settings not necessary for evaluation\n",
    "   with torch.inference_mode():\n",
    "        # 1. test prediction\n",
    "        test_pred = Model_0(X_test)\n",
    "        # 2. claculate the loss \n",
    "        test_loss = loss_fcn(test_pred,y_test)\n",
    "   \n",
    "   #print(f\"loss:{loss} \")     \n",
    "   if epoch % 10 == 0:\n",
    "        epoch_count.append(epoch)\n",
    "        train_loss.append(loss)\n",
    "        Test_loss.append(test_loss)\n",
    "        \n",
    "        #print(f\"Epoch:{epoch} | loss:{loss:.2f} | Test loss:{test_loss:.2f} | Accuracy: {acc:.2f}\")\n",
    "        \n",
    "\n",
    "print(f\"{y_pred.shape}-------{y_train.shape}\")\n",
    "torch.eq(y_train,torch.round(y_pred)).sum().item()\n",
    "\n",
    "print(f\"{y_train[0]}------{y_pred[0]}\")  \n",
    "y_train[0] == torch.round(y_pred[0])\n"
   ]
  },
  {
   "cell_type": "code",
   "execution_count": 15,
   "metadata": {},
   "outputs": [
    {
     "data": {
      "text/plain": [
       "<matplotlib.legend.Legend at 0x263f187bad0>"
      ]
     },
     "execution_count": 15,
     "metadata": {},
     "output_type": "execute_result"
    },
    {
     "data": {
      "image/png": "[encoded data removed]",
      "text/plain": [
       "<Figure size 640x480 with 1 Axes>"
      ]
     },
     "metadata": {},
     "output_type": "display_data"
    }
   ],
   "source": [
    "# plot of loss curve\n",
    "plt.plot(epoch_count,np.array(torch.tensor(train_loss).cpu().numpy()),label=\"Train loss\")\n",
    "plt.plot(epoch_count,np.array(torch.tensor(Test_loss).cpu().numpy()),label=\"test_loss\")\n",
    "plt.title(\"training and test loss curves\")\n",
    "plt.ylabel(\"Loss\")\n",
    "plt.xlabel(\"Epoch\")\n",
    "plt.legend()\n"
   ]
  },
  {
   "cell_type": "code",
   "execution_count": 10,
   "metadata": {},
   "outputs": [
    {
     "data": {
      "text/plain": [
       "OrderedDict([('weights', tensor([0.3367])),\n",
       "             ('bias', tensor([0.1288])),\n",
       "             ('linear.weight', tensor([[0.0692]])),\n",
       "             ('linear.bias', tensor([0.5538]))])"
      ]
     },
     "execution_count": 10,
     "metadata": {},
     "output_type": "execute_result"
    }
   ],
   "source": [
    "with torch.inference_mode():\n",
    "    y_preds_new = Model_0(X_test)\n",
    "\n",
    "Model_0.state_dict()"
   ]
  },
  {
   "cell_type": "code",
   "execution_count": 11,
   "metadata": {},
   "outputs": [
    {
     "ename": "NameError",
     "evalue": "name 'Model_Name' is not defined",
     "output_type": "error",
     "traceback": [
      "\u001b[1;31m---------------------------------------------------------------------------\u001b[0m",
      "\u001b[1;31mNameError\u001b[0m                                 Traceback (most recent call last)",
      "Cell \u001b[1;32mIn[11], line 7\u001b[0m\n\u001b[0;32m      5\u001b[0m Model_path \u001b[38;5;241m=\u001b[39m Path(\u001b[38;5;124m\"\u001b[39m\u001b[38;5;124mmodels\u001b[39m\u001b[38;5;124m\"\u001b[39m)\n\u001b[0;32m      6\u001b[0m Model_path\u001b[38;5;241m.\u001b[39mmkdir(parents\u001b[38;5;241m=\u001b[39m\u001b[38;5;28;01mTrue\u001b[39;00m,exist_ok\u001b[38;5;241m=\u001b[39m\u001b[38;5;28;01mTrue\u001b[39;00m)\n\u001b[1;32m----> 7\u001b[0m Model_save_path \u001b[38;5;241m=\u001b[39m Model_path \u001b[38;5;241m/\u001b[39m \u001b[43mModel_Name\u001b[49m\n",
      "\u001b[1;31mNameError\u001b[0m: name 'Model_Name' is not defined"
     ]
    }
   ],
   "source": [
    "# saving pytorch model\n",
    "\n",
    "from pathlib import Path\n",
    "\n",
    "Model_path = Path(\"models\")\n",
    "Model_path.mkdir(parents=True,exist_ok=True)\n",
    "Model_save_path = Model_path / Model_Name"
   ]
  }
 ],
 "metadata": {
  "kernelspec": {
   "display_name": "Python 3",
   "language": "python",
   "name": "python3"
  },
  "language_info": {
   "codemirror_mode": {
    "name": "ipython",
    "version": 3
   },
   "file_extension": ".py",
   "mimetype": "text/x-python",
   "name": "python",
   "nbconvert_exporter": "python",
   "pygments_lexer": "ipython3",
   "version": "3.11.1"
  }
 },
 "nbformat": 4,
 "nbformat_minor": 2
}
