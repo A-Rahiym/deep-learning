{
 "cells": [
  {
   "cell_type": "code",
   "execution_count": 2,
   "metadata": {},
   "outputs": [],
   "source": [
    "import torch"
   ]
  },
  {
   "cell_type": "markdown",
   "metadata": {},
   "source": [
    "represent data in all sort of dimension\n",
    "--> most common is the 3d dimensional representation\n",
    "--> others like pictures and others forms are all possible\n",
    "--> they are all sorts of possibility"
   ]
  },
  {
   "cell_type": "code",
   "execution_count": null,
   "metadata": {},
   "outputs": [],
   "source": [
    "rand_1 = torch.rand(6,3,4)  # 3 by 4 by 6 of six sets\n",
    "rand_2 = torch.rand(size=(3,224,224)) # 224 by 244 of 3 sets 3 dimension"
   ]
  },
  {
   "cell_type": "code",
   "execution_count": null,
   "metadata": {},
   "outputs": [],
   "source": [
    "tensor = torch.arange(1,28).view(3,3,3)\n",
    "tensor_1 = tensor.reshape(3,3,3)\n",
    "tensor_1"
   ]
  },
  {
   "cell_type": "markdown",
   "metadata": {},
   "source": [
    "Reshape:\n",
    "    Can handle tensors that are not contiguous (but might need to copy the data in such cases).\n",
    "    Changes the dimensions of the tensor.\n",
    "    If possible, it returns a view (no data copy), otherwise it returns a new tensor (data copy).\n",
    "\n",
    "View:\n",
    "    Requires the tensor to be contiguous.\n",
    "    Directly changes the dimensions without copying the data.\n",
    "    Very efficient as it only changes the metadata describing the dimensions."
   ]
  },
  {
   "cell_type": "markdown",
   "metadata": {},
   "source": [
    "Tensor of Range\n",
    "tensor of all zeros and ones\n",
    "\n"
   ]
  },
  {
   "cell_type": "code",
   "execution_count": 3,
   "metadata": {},
   "outputs": [],
   "source": [
    "range_1 = torch.arange(1,11,2)\n",
    "zeros_1 = torch.zeros(3,3)\n",
    "ones_1 = torch.ones(3,3)\n",
    "# specify from the torch designated dtypes to use \n",
    "tens_1 = torch.rand(size=(3,3),dtype=torch.float16,requires_grad=False)"
   ]
  },
  {
   "cell_type": "markdown",
   "metadata": {},
   "source": [
    "useful tips \n",
    "tensor.dtype --> get datatype from tensore\n",
    "tensor.shape --> get shape of tensor\n",
    "tensor.device --> get device in which tensor is used"
   ]
  },
  {
   "cell_type": "code",
   "execution_count": 4,
   "metadata": {},
   "outputs": [
    {
     "name": "stdout",
     "output_type": "stream",
     "text": [
      "tensor([[0.0253, 0.0625, 0.0319, 0.1233, 0.0713, 0.3016, 0.0417, 0.0380, 0.0496,\n",
      "         0.1530],\n",
      "        [0.0326, 0.5286, 0.6505, 0.2065, 0.0480, 0.0807, 0.4508, 0.2406, 0.4108,\n",
      "         0.0325],\n",
      "        [0.0302, 0.2925, 0.4848, 0.0172, 0.0106, 0.0277, 0.0779, 0.1982, 0.2242,\n",
      "         0.5598]])\n"
     ]
    },
    {
     "data": {
      "text/plain": [
       "tensor([[1.3165, 1.0379, 0.6942, 0.7870, 0.3330, 0.8704, 0.7368, 0.9970, 0.8166,\n",
       "         0.6515],\n",
       "        [0.8649, 0.6891, 0.3332, 0.8187, 0.7347, 0.6362, 0.4130, 0.8394, 0.7788,\n",
       "         0.3105],\n",
       "        [0.8302, 0.7046, 0.2906, 0.8354, 0.6133, 0.6466, 0.4303, 0.7295, 0.8883,\n",
       "         0.4677],\n",
       "        [1.4647, 1.2769, 0.5144, 1.4512, 0.8986, 1.1566, 0.8017, 1.1859, 1.6317,\n",
       "         0.9886],\n",
       "        [1.3460, 1.2107, 0.4131, 1.4617, 0.9009, 1.1109, 0.7437, 1.0813, 1.6847,\n",
       "         1.0125],\n",
       "        [1.3841, 1.0983, 0.6824, 0.9416, 0.5269, 0.9421, 0.7525, 1.1068, 0.9609,\n",
       "         0.6603],\n",
       "        [1.0583, 0.8648, 0.5171, 0.7178, 0.2935, 0.7351, 0.6031, 0.7812, 0.7934,\n",
       "         0.6187],\n",
       "        [0.7251, 0.5831, 0.2889, 0.6597, 0.5449, 0.5313, 0.3591, 0.6721, 0.6461,\n",
       "         0.2980],\n",
       "        [0.5734, 0.4543, 0.2231, 0.5387, 0.4902, 0.4194, 0.2722, 0.5601, 0.5072,\n",
       "         0.1966],\n",
       "        [0.5693, 0.5380, 0.0455, 0.9255, 0.8284, 0.5466, 0.2623, 0.5980, 1.0041,\n",
       "         0.3922]])"
      ]
     },
     "execution_count": 4,
     "metadata": {},
     "output_type": "execute_result"
    }
   ],
   "source": [
    "r_1 = torch.rand(3,10)\n",
    "r_2 = torch.rand(3,10)\n",
    "r_2.T.shape\n",
    "print(r_1 * r_2)\n",
    "torch.matmul(torch.rand(10,3),torch.rand(3,10))\n"
   ]
  },
  {
   "cell_type": "markdown",
   "metadata": {},
   "source": [
    "building model"
   ]
  },
  {
   "cell_type": "code",
   "execution_count": 5,
   "metadata": {},
   "outputs": [
    {
     "name": "stdout",
     "output_type": "stream",
     "text": [
      "['AdaptiveAvgPool1d', 'AdaptiveAvgPool2d', 'AdaptiveAvgPool3d', 'AdaptiveLogSoftmaxWithLoss', 'AdaptiveMaxPool1d', 'AdaptiveMaxPool2d', 'AdaptiveMaxPool3d', 'AlphaDropout', 'AvgPool1d', 'AvgPool2d', 'AvgPool3d', 'BCELoss', 'BCEWithLogitsLoss', 'BatchNorm1d', 'BatchNorm2d', 'BatchNorm3d', 'Bilinear', 'CELU', 'CTCLoss', 'ChannelShuffle', 'CircularPad1d', 'CircularPad2d', 'CircularPad3d', 'ConstantPad1d', 'ConstantPad2d', 'ConstantPad3d', 'Container', 'Conv1d', 'Conv2d', 'Conv3d', 'ConvTranspose1d', 'ConvTranspose2d', 'ConvTranspose3d', 'CosineEmbeddingLoss', 'CosineSimilarity', 'CrossEntropyLoss', 'CrossMapLRN2d', 'DataParallel', 'Dropout', 'Dropout1d', 'Dropout2d', 'Dropout3d', 'ELU', 'Embedding', 'EmbeddingBag', 'FeatureAlphaDropout', 'Flatten', 'Fold', 'FractionalMaxPool2d', 'FractionalMaxPool3d', 'GELU', 'GLU', 'GRU', 'GRUCell', 'GaussianNLLLoss', 'GroupNorm', 'Hardshrink', 'Hardsigmoid', 'Hardswish', 'Hardtanh', 'HingeEmbeddingLoss', 'HuberLoss', 'Identity', 'InstanceNorm1d', 'InstanceNorm2d', 'InstanceNorm3d', 'KLDivLoss', 'L1Loss', 'LPPool1d', 'LPPool2d', 'LPPool3d', 'LSTM', 'LSTMCell', 'LayerNorm', 'LazyBatchNorm1d', 'LazyBatchNorm2d', 'LazyBatchNorm3d', 'LazyConv1d', 'LazyConv2d', 'LazyConv3d', 'LazyConvTranspose1d', 'LazyConvTranspose2d', 'LazyConvTranspose3d', 'LazyInstanceNorm1d', 'LazyInstanceNorm2d', 'LazyInstanceNorm3d', 'LazyLinear', 'LeakyReLU', 'Linear', 'LocalResponseNorm', 'LogSigmoid', 'LogSoftmax', 'MSELoss', 'MarginRankingLoss', 'MaxPool1d', 'MaxPool2d', 'MaxPool3d', 'MaxUnpool1d', 'MaxUnpool2d', 'MaxUnpool3d', 'Mish', 'Module', 'ModuleDict', 'ModuleList', 'MultiLabelMarginLoss', 'MultiLabelSoftMarginLoss', 'MultiMarginLoss', 'MultiheadAttention', 'NLLLoss', 'NLLLoss2d', 'PReLU', 'PairwiseDistance', 'Parameter', 'ParameterDict', 'ParameterList', 'PixelShuffle', 'PixelUnshuffle', 'PoissonNLLLoss', 'RNN', 'RNNBase', 'RNNCell', 'RNNCellBase', 'RReLU', 'ReLU', 'ReLU6', 'ReflectionPad1d', 'ReflectionPad2d', 'ReflectionPad3d', 'ReplicationPad1d', 'ReplicationPad2d', 'ReplicationPad3d', 'SELU', 'Sequential', 'SiLU', 'Sigmoid', 'SmoothL1Loss', 'SoftMarginLoss', 'Softmax', 'Softmax2d', 'Softmin', 'Softplus', 'Softshrink', 'Softsign', 'SyncBatchNorm', 'Tanh', 'Tanhshrink', 'Threshold', 'Transformer', 'TransformerDecoder', 'TransformerDecoderLayer', 'TransformerEncoder', 'TransformerEncoderLayer', 'TripletMarginLoss', 'TripletMarginWithDistanceLoss', 'Unflatten', 'Unfold', 'UninitializedBuffer', 'UninitializedParameter', 'Upsample', 'UpsamplingBilinear2d', 'UpsamplingNearest2d', 'ZeroPad1d', 'ZeroPad2d', 'ZeroPad3d', '__builtins__', '__cached__', '__doc__', '__file__', '__loader__', '__name__', '__package__', '__path__', '__spec__', '_reduction', 'attention', 'common_types', 'factory_kwargs', 'functional', 'grad', 'init', 'intrinsic', 'modules', 'parallel', 'parameter', 'qat', 'quantizable', 'quantized', 'utils']\n"
     ]
    }
   ],
   "source": [
    "\n",
    "from torch import nn\n",
    "print(dir(nn))\n",
    "import matplotlib.pyplot as plt\n",
    "weight = 0.7\n",
    "bias = 0.3\n",
    "start = 0\n",
    "end = 1\n",
    "step = 0.02\n",
    "X = torch.arange(start,end,step).unsqueeze(dim=1)\n",
    "y = weight * X + bias"
   ]
  },
  {
   "cell_type": "code",
   "execution_count": 6,
   "metadata": {},
   "outputs": [],
   "source": [
    "#creating training and testing data\n",
    "train_split = int(0.8 * len(X))\n",
    "X_train, y_train = X[:train_split],y[:train_split]\n",
    "X_test, y_test = X[train_split:], y[train_split:]"
   ]
  },
  {
   "cell_type": "code",
   "execution_count": 7,
   "metadata": {},
   "outputs": [],
   "source": [
    "\n",
    "def plot_predictions( train_data=X_train,\n",
    "                     train_labels=y_train,\n",
    "                     test_data=X_test,\n",
    "                     test_labels=y_test,\n",
    "                     predictions=None):\n",
    "    plt.figure(figsize=(6,6))\n",
    "    # plot training data in blue \n",
    "    plt.scatter(train_data,train_labels,c=\"b\",s=4,label=\"training data\")\n",
    "    # plot test data in green\n",
    "    plt.scatter(test_data,test_labels,c=\"g\",s=4,label=\"testing data\")\n",
    "    if predictions is not None:\n",
    "        # plot predictions in red\n",
    "        plt.scatter(test_data,predictions,c=\"r\",s=4,label=\"testing data\")\n",
    "    #show the legends\n",
    "    plt.legend(prop={\"size\":13})    \n",
    "\n",
    "    "
   ]
  },
  {
   "cell_type": "code",
   "execution_count": 8,
   "metadata": {},
   "outputs": [],
   "source": [
    "# creating a linearRegression model class\n",
    "from torch import nn\n",
    "class LinearRegressionModel(nn.Module):\n",
    "    def __init__(self):\n",
    "        super().__init__()\n",
    "        self.weights = nn.Parameter(torch.randn(1,requires_grad=True,dtype=torch.float))\n",
    "        self.bias = nn.Parameter(torch.randn(1,requires_grad=True,dtype=torch.float))    \n",
    "    # defining computation in the model\n",
    "    def forward(self,x: torch.Tensor) -> torch.tensor: \n",
    "        return self.weights * x + self.bias"
   ]
  },
  {
   "cell_type": "code",
   "execution_count": 9,
   "metadata": {},
   "outputs": [],
   "source": [
    "# random seed\n",
    "torch.manual_seed(42)\n",
    "Model_0 = LinearRegressionModel() \n",
    "#list(Model_0.parameters())\n",
    "#Model_0.state_dict()\n"
   ]
  },
  {
   "cell_type": "code",
   "execution_count": 10,
   "metadata": {},
   "outputs": [],
   "source": [
    "### making prediction with torch.inference\n",
    "with torch.inference_mode():\n",
    "    y_preds = Model_0(X_test)"
   ]
  },
  {
   "cell_type": "code",
   "execution_count": 11,
   "metadata": {},
   "outputs": [
    {
     "data": {
      "image/png": "[encoded data removed]",
      "text/plain": [
       "<Figure size 600x600 with 1 Axes>"
      ]
     },
     "metadata": {},
     "output_type": "display_data"
    }
   ],
   "source": [
    "plot_predictions(predictions=y_preds)"
   ]
  },
  {
   "cell_type": "code",
   "execution_count": 12,
   "metadata": {},
   "outputs": [
    {
     "name": "stdout",
     "output_type": "stream",
     "text": [
      "tensor([[0.8000],\n",
      "        [0.8200],\n",
      "        [0.8400],\n",
      "        [0.8600],\n",
      "        [0.8800],\n",
      "        [0.9000],\n",
      "        [0.9200],\n",
      "        [0.9400],\n",
      "        [0.9600],\n",
      "        [0.9800]])----------tensor([[0.3982],\n",
      "        [0.4049],\n",
      "        [0.4116],\n",
      "        [0.4184],\n",
      "        [0.4251],\n",
      "        [0.4318],\n",
      "        [0.4386],\n",
      "        [0.4453],\n",
      "        [0.4520],\n",
      "        [0.4588]], grad_fn=<AddBackward0>)\n"
     ]
    }
   ],
   "source": [
    "# prediction made without actual data training\n",
    "y_pred = Model_0(X_test)\n",
    "print(f\"\"\"{X_test}----------{y_pred}\"\"\")"
   ]
  },
  {
   "cell_type": "code",
   "execution_count": 13,
   "metadata": {},
   "outputs": [],
   "source": [
    "# setting up loss and optimizer function\n",
    "loss_fcn = nn.L1Loss()\n",
    "optimizer = torch.optim.SGD(params=Model_0.parameters(),\n",
    "                         lr=0.01)"
   ]
  },
  {
   "cell_type": "markdown",
   "metadata": {},
   "source": [
    "### building a training loop ####\n",
    "within the training loop:\n",
    "- loop through data\n",
    "- forward pass--> (moving data using forward fcn) make predictions on data (forward   propagation)\n",
    "- calculate loss \n",
    "- optimizer zero grad\n",
    "- loss backward --> (moving backward through the network to calculate gradient of each parameter within the model to loss)\n",
    "- use optimizer to adjust model -->  (\"Gradient Descent\")"
   ]
  },
  {
   "cell_type": "code",
   "execution_count": 20,
   "metadata": {},
   "outputs": [
    {
     "name": "stdout",
     "output_type": "stream",
     "text": [
      "loss:0.008932482451200485 \n",
      "Epoch:0 | loss:0.008932482451200485 | Test loss:0.005023092031478882\n",
      "loss:0.0025885067880153656 \n",
      "loss:0.008932482451200485 \n",
      "loss:0.0025885067880153656 \n",
      "loss:0.008932482451200485 \n",
      "loss:0.0025885067880153656 \n",
      "loss:0.008932482451200485 \n",
      "loss:0.0025885067880153656 \n",
      "loss:0.008932482451200485 \n",
      "loss:0.0025885067880153656 \n",
      "loss:0.008932482451200485 \n",
      "Epoch:10 | loss:0.008932482451200485 | Test loss:0.005023092031478882\n",
      "loss:0.0025885067880153656 \n",
      "loss:0.008932482451200485 \n",
      "loss:0.0025885067880153656 \n",
      "loss:0.008932482451200485 \n",
      "loss:0.0025885067880153656 \n",
      "loss:0.008932482451200485 \n",
      "loss:0.0025885067880153656 \n",
      "loss:0.008932482451200485 \n",
      "loss:0.0025885067880153656 \n",
      "loss:0.008932482451200485 \n",
      "Epoch:20 | loss:0.008932482451200485 | Test loss:0.005023092031478882\n",
      "loss:0.0025885067880153656 \n",
      "loss:0.008932482451200485 \n",
      "loss:0.0025885067880153656 \n",
      "loss:0.008932482451200485 \n",
      "loss:0.0025885067880153656 \n",
      "loss:0.008932482451200485 \n",
      "loss:0.0025885067880153656 \n",
      "loss:0.008932482451200485 \n",
      "loss:0.0025885067880153656 \n",
      "loss:0.008932482451200485 \n",
      "Epoch:30 | loss:0.008932482451200485 | Test loss:0.005023092031478882\n",
      "loss:0.0025885067880153656 \n",
      "loss:0.008932482451200485 \n",
      "loss:0.0025885067880153656 \n",
      "loss:0.008932482451200485 \n",
      "loss:0.0025885067880153656 \n",
      "loss:0.008932482451200485 \n",
      "loss:0.0025885067880153656 \n",
      "loss:0.008932482451200485 \n",
      "loss:0.0025885067880153656 \n",
      "loss:0.008932482451200485 \n",
      "Epoch:40 | loss:0.008932482451200485 | Test loss:0.005023092031478882\n",
      "loss:0.0025885067880153656 \n",
      "loss:0.008932482451200485 \n",
      "loss:0.0025885067880153656 \n",
      "loss:0.008932482451200485 \n",
      "loss:0.0025885067880153656 \n",
      "loss:0.008932482451200485 \n",
      "loss:0.0025885067880153656 \n",
      "loss:0.008932482451200485 \n",
      "loss:0.0025885067880153656 \n",
      "loss:0.008932482451200485 \n",
      "Epoch:50 | loss:0.008932482451200485 | Test loss:0.005023092031478882\n",
      "loss:0.0025885067880153656 \n",
      "loss:0.008932482451200485 \n",
      "loss:0.0025885067880153656 \n",
      "loss:0.008932482451200485 \n",
      "loss:0.0025885067880153656 \n",
      "loss:0.008932482451200485 \n",
      "loss:0.0025885067880153656 \n",
      "loss:0.008932482451200485 \n",
      "loss:0.0025885067880153656 \n",
      "loss:0.008932482451200485 \n",
      "Epoch:60 | loss:0.008932482451200485 | Test loss:0.005023092031478882\n",
      "loss:0.0025885067880153656 \n",
      "loss:0.008932482451200485 \n",
      "loss:0.0025885067880153656 \n",
      "loss:0.008932482451200485 \n",
      "loss:0.0025885067880153656 \n",
      "loss:0.008932482451200485 \n",
      "loss:0.0025885067880153656 \n",
      "loss:0.008932482451200485 \n",
      "loss:0.0025885067880153656 \n",
      "loss:0.008932482451200485 \n",
      "Epoch:70 | loss:0.008932482451200485 | Test loss:0.005023092031478882\n",
      "loss:0.0025885067880153656 \n",
      "loss:0.008932482451200485 \n",
      "loss:0.0025885067880153656 \n",
      "loss:0.008932482451200485 \n",
      "loss:0.0025885067880153656 \n",
      "loss:0.008932482451200485 \n",
      "loss:0.0025885067880153656 \n",
      "loss:0.008932482451200485 \n",
      "loss:0.0025885067880153656 \n",
      "loss:0.008932482451200485 \n",
      "Epoch:80 | loss:0.008932482451200485 | Test loss:0.005023092031478882\n",
      "loss:0.0025885067880153656 \n",
      "loss:0.008932482451200485 \n",
      "loss:0.0025885067880153656 \n",
      "loss:0.008932482451200485 \n",
      "loss:0.0025885067880153656 \n",
      "loss:0.008932482451200485 \n",
      "loss:0.0025885067880153656 \n",
      "loss:0.008932482451200485 \n",
      "loss:0.0025885067880153656 \n",
      "loss:0.008932482451200485 \n",
      "Epoch:90 | loss:0.008932482451200485 | Test loss:0.005023092031478882\n",
      "loss:0.0025885067880153656 \n",
      "loss:0.008932482451200485 \n",
      "loss:0.0025885067880153656 \n",
      "loss:0.008932482451200485 \n",
      "loss:0.0025885067880153656 \n",
      "loss:0.008932482451200485 \n",
      "loss:0.0025885067880153656 \n",
      "loss:0.008932482451200485 \n",
      "loss:0.0025885067880153656 \n"
     ]
    }
   ],
   "source": [
    "epoch = 100\n",
    "\n",
    "# training loop\n",
    "for epoch in range(epoch):\n",
    "    # model in training mode\n",
    "   Model_0.train() # train mode in pytorch sets all parameters that requires gradient\n",
    "   # 1. Forward pass\n",
    "   y_pred = Model_0(X_train)\n",
    "   # 2. loss fcn calcultaion\n",
    "   loss = loss_fcn(y_pred,y_train)\n",
    "   # 3. optimizer zero grad \n",
    "   optimizer.zero_grad()\n",
    "   # 4. perform backward propagation on the loss with respect to the parameters of the model\n",
    "   loss.backward() \n",
    "   #5  i.e how the changes in the optimizer will accumulate through the loop\n",
    "       # they have to b ezero above step three \n",
    "   optimizer.step()\n",
    "   \n",
    "   ###-------------------------------------Testing------------------------------------###\n",
    "   \n",
    "   # test should occur foe each epoch\n",
    "   Model_0.eval() # turn off settings not necessary for evaluation\n",
    "   with torch.inference_mode():\n",
    "        # 1. test prediction\n",
    "        test_pred = Model_0(X_test)\n",
    "        # 2. claculate the loss \n",
    "        test_loss = loss_fcn(test_pred,y_test)\n",
    "   \n",
    "   print(f\"loss:{loss} \")     \n",
    "   if epoch % 10 == 0:\n",
    "        print(f\"Epoch:{epoch} | loss:{loss} | Test loss:{test_loss}\")\n",
    "    "
   ]
  },
  {
   "cell_type": "code",
   "execution_count": 21,
   "metadata": {},
   "outputs": [
    {
     "data": {
      "text/plain": [
       "OrderedDict([('weights', tensor([0.6990])), ('bias', tensor([0.3093]))])"
      ]
     },
     "execution_count": 21,
     "metadata": {},
     "output_type": "execute_result"
    },
    {
     "data": {
      "image/png": "[encoded data removed]",
      "text/plain": [
       "<Figure size 600x600 with 1 Axes>"
      ]
     },
     "metadata": {},
     "output_type": "display_data"
    }
   ],
   "source": [
    "with torch.inference_mode():\n",
    "    y_preds_new = Model_0(X_test)\n",
    "\n",
    "plot_predictions(predictions=y_preds_new)\n",
    "Model_0.state_dict()\n"
   ]
  }
 ],
 "metadata": {
  "kernelspec": {
   "display_name": "Python 3",
   "language": "python",
   "name": "python3"
  },
  "language_info": {
   "codemirror_mode": {
    "name": "ipython",
    "version": 3
   },
   "file_extension": ".py",
   "mimetype": "text/x-python",
   "name": "python",
   "nbconvert_exporter": "python",
   "pygments_lexer": "ipython3",
   "version": "3.11.1"
  }
 },
 "nbformat": 4,
 "nbformat_minor": 2
}
