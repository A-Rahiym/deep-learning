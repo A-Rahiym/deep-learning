{
 "cells": [
  {
   "cell_type": "code",
   "execution_count": 9,
   "metadata": {},
   "outputs": [],
   "source": [
    "import torch\n",
    "import torch.nn as nn\n",
    "import numpy as np\n",
    "from sklearn import datasets \n",
    "from sklearn.preprocessing import StandardScaler\n",
    "from sklearn.model_selection import train_test_split\n",
    "import matplotlib.pyplot as plt\n"
   ]
  },
  {
   "cell_type": "code",
   "execution_count": 10,
   "metadata": {},
   "outputs": [
    {
     "name": "stdout",
     "output_type": "stream",
     "text": [
      "torch.Size([455, 30]) 2\n",
      "torch.Size([455, 1]) 2\n",
      "torch.Size([114, 30]) 2\n",
      "torch.Size([114, 1]) 2\n"
     ]
    }
   ],
   "source": [
    "# Scaler \n",
    "# Data preparation\n",
    "\n",
    "bc = datasets.load_breast_cancer()\n",
    "X,y = bc.data, bc.target\n",
    "n_samples, n_features = X.shape   # column is the number of features\n",
    "X_train, X_test, y_train, y_test = train_test_split(X,y,test_size=0.2,random_state=1234)\n",
    "\n",
    "\n",
    "\n",
    "sc = StandardScaler()\n",
    "X_train = sc.fit_transform(X_train)\n",
    "X_test = sc.fit_transform(X_test)\n",
    "\n",
    "\n",
    "X_train = torch.from_numpy(X_train.astype(np.float32))\n",
    "X_test = torch.from_numpy(X_test.astype(np.float32))\n",
    "\n",
    "y_train = torch.from_numpy(y_train.astype(np.float32)).view(-1,1)\n",
    "y_test = torch.from_numpy(y_test.astype(np.float32)).view(-1,1)\n",
    "\n",
    "print(X_train.shape,X_train.ndim)\n",
    "print(y_train.shape,y_train.ndim)\n",
    "\n",
    "print(X_test.shape,X_test.ndim)\n",
    "print(y_test.shape,y_test.ndim)\n",
    "\n",
    "\n"
   ]
  },
  {
   "cell_type": "markdown",
   "metadata": {},
   "source": [
    "Use Existing Shape: y_train.shape[0] gets the size of the first dimension (number of rows) from y_train.\n",
    "\n",
    "Reshape with view(y_train.shape[0], 1):\n",
    "    Here, y_train.shape[0] is explicitly specifying the number of rows.\n",
    "    1 again specifies that we want the second dimension to have a size of 1.\n",
    "    If y_train already had 100 rows after the first reshape, this line doesn't change the shape; it just reaffirms it, explicitly setting the shape to (100, 1)."
   ]
  },
  {
   "cell_type": "code",
   "execution_count": 11,
   "metadata": {},
   "outputs": [],
   "source": [
    "# build model class\n",
    "class LogisticRegression(nn.Module):\n",
    "    def __init__(self,n_input_features):\n",
    "        super().__init__()\n",
    "        self.linear = nn.Linear(n_input_features,1)\n",
    "    def forward(self,x):\n",
    "        y_predicted = torch.sigmoid(self.linear(x))\n",
    "        return y_predicted"
   ]
  },
  {
   "cell_type": "code",
   "execution_count": 12,
   "metadata": {},
   "outputs": [],
   "source": [
    "model = LogisticRegression(n_features)\n",
    "loss_fcn = nn.BCELoss()\n",
    "Learning_rate = 0.01 \n",
    "optimizer = torch.optim.SGD(model.parameters(),lr=Learning_rate)\n",
    "#model.state_dict()"
   ]
  },
  {
   "cell_type": "code",
   "execution_count": 16,
   "metadata": {},
   "outputs": [
    {
     "name": "stdout",
     "output_type": "stream",
     "text": [
      "epoch: 0 <-------> loss: 0.0887\n",
      "epoch: 10 <-------> loss: 0.0884\n",
      "epoch: 20 <-------> loss: 0.0881\n",
      "epoch: 30 <-------> loss: 0.0878\n",
      "epoch: 40 <-------> loss: 0.0874\n",
      "epoch: 50 <-------> loss: 0.0871\n",
      "epoch: 60 <-------> loss: 0.0868\n",
      "epoch: 70 <-------> loss: 0.0865\n",
      "epoch: 80 <-------> loss: 0.0862\n",
      "epoch: 90 <-------> loss: 0.0859\n",
      "torch.Size([114, 1])-------torch.Size([455, 1])\n"
     ]
    }
   ],
   "source": [
    "# training loop\n",
    "epochs = 100\n",
    "\n",
    "epoch_count = []\n",
    "train_loss = []\n",
    "Test_loss = [] \n",
    "\n",
    "for epoch in range(epochs):\n",
    "    \n",
    "    y_pred = model(X_train)\n",
    "    loss = loss_fcn(y_pred,y_train)\n",
    "    loss.backward()\n",
    "    optimizer.step()\n",
    "    optimizer.zero_grad()\n",
    "    \n",
    "    with torch.inference_mode():\n",
    "        y_pred = model(X_test)\n",
    "        test_loss = loss_fcn(y_pred,y_test)  \n",
    "    \n",
    "    if (epoch - 1) % 10 == 0:\n",
    "        print(f\"epoch: {epoch - 1} <-------> loss: {loss.item():.4f}\") \n",
    "        epoch_count.append(epoch)\n",
    "        train_loss.append(loss)\n",
    "        Test_loss.append(test_loss)\n",
    "        \n",
    "print(f\"{y_pred.shape}-------{y_train.shape}\")   "
   ]
  },
  {
   "cell_type": "code",
   "execution_count": 17,
   "metadata": {},
   "outputs": [
    {
     "data": {
      "text/plain": [
       "<matplotlib.legend.Legend at 0x20c7bf72010>"
      ]
     },
     "execution_count": 17,
     "metadata": {},
     "output_type": "execute_result"
    },
    {
     "data": {
      "image/png": "[encoded data removed]",
      "text/plain": [
       "<Figure size 640x480 with 1 Axes>"
      ]
     },
     "metadata": {},
     "output_type": "display_data"
    }
   ],
   "source": [
    "plt.plot(epoch_count,np.array(torch.tensor(train_loss).cpu().numpy()),label=\"Train loss\")\n",
    "plt.plot(epoch_count,np.array(torch.tensor(Test_loss).cpu().numpy()),label=\"test_loss\")\n",
    "plt.title(\"training and test loss curves\")\n",
    "plt.ylabel(\"Loss\")\n",
    "plt.xlabel(\"Epoch\")\n",
    "plt.legend()"
   ]
  },
  {
   "cell_type": "code",
   "execution_count": 19,
   "metadata": {},
   "outputs": [
    {
     "name": "stdout",
     "output_type": "stream",
     "text": [
      "tensor(0.9474)\n"
     ]
    }
   ],
   "source": [
    "with torch.inference_mode():\n",
    "        y_pred = model(X_test)\n",
    "        y_pred_cls = y_pred.round()\n",
    "        acc = y_pred_cls.eq(y_test).sum() / float(y_test.shape[0])\n",
    "        print(acc)"
   ]
  }
 ],
 "metadata": {
  "kernelspec": {
   "display_name": "Python 3",
   "language": "python",
   "name": "python3"
  },
  "language_info": {
   "codemirror_mode": {
    "name": "ipython",
    "version": 3
   },
   "file_extension": ".py",
   "mimetype": "text/x-python",
   "name": "python",
   "nbconvert_exporter": "python",
   "pygments_lexer": "ipython3",
   "version": "3.11.1"
  }
 },
 "nbformat": 4,
 "nbformat_minor": 2
}
