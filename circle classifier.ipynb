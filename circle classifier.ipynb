{
 "cells": [
  {
   "cell_type": "code",
   "execution_count": 2,
   "metadata": {},
   "outputs": [],
   "source": [
    "import sklearn.model_selection\n",
    "import torch \n",
    "import torch.nn as nn\n",
    "import torch.optim as optim\n",
    "\n",
    "import sklearn\n",
    "from sklearn.datasets import make_circles\n",
    "from sklearn.model_selection import train_test_split\n",
    "import pandas as pd\n",
    "import matplotlib.pyplot as plt\n"
   ]
  },
  {
   "cell_type": "code",
   "execution_count": 3,
   "metadata": {},
   "outputs": [],
   "source": [
    "n_samples = 1000\n",
    "X,y = make_circles(n_samples,noise=0.03,random_state=42)\n",
    "\n",
    "circles = pd.DataFrame({\"X1\": X[:,0], \n",
    "                        \"X2\":X[:,1], \n",
    "                        \"Label\": y})\n",
    "circles.head(50)\n",
    "#plt.scatter(X[:,0],X[:,1], c=y, cmap=plt.cm.RdYlBu)\n",
    "\n",
    "# viewing samples of features and labels\n",
    "#print(f\"X sample--> {X[0]} \\n y sample--> {y[0]}\")\n",
    "\n",
    "X = torch.from_numpy(X).type(torch.float) \n",
    "y = torch.from_numpy(y).type(torch.float)\n"
   ]
  },
  {
   "cell_type": "code",
   "execution_count": 4,
   "metadata": {},
   "outputs": [
    {
     "data": {
      "text/plain": [
       "torch.Size([800])"
      ]
     },
     "execution_count": 4,
     "metadata": {},
     "output_type": "execute_result"
    }
   ],
   "source": [
    "X_train, X_test, y_train, y_test = train_test_split(X,y,\n",
    "                                                    test_size=0.2,\n",
    "                                                    random_state=42)\n",
    "y_train.shape"
   ]
  },
  {
   "cell_type": "code",
   "execution_count": 33,
   "metadata": {},
   "outputs": [],
   "source": [
    "class CircleModel(nn.Module):\n",
    "    def __init__(self) -> None:\n",
    "        super().__init__()\n",
    "        \n",
    "        self.network  =  nn.Sequential(\n",
    "            nn.Linear(2,5),\n",
    "            nn.Linear(5,1)            \n",
    "            )\n",
    "    \n",
    "    def forward(self,x):\n",
    "        return self.network(x)\n",
    "    \n",
    "\n",
    "\n",
    "        \n",
    "        "
   ]
  },
  {
   "cell_type": "code",
   "execution_count": 34,
   "metadata": {},
   "outputs": [
    {
     "data": {
      "text/plain": [
       "OrderedDict([('network.0.weight',\n",
       "              tensor([[ 0.6786, -0.0236],\n",
       "                      [ 0.0363, -0.3325],\n",
       "                      [ 0.4100, -0.1866],\n",
       "                      [-0.6575,  0.2433],\n",
       "                      [ 0.4353,  0.2191]])),\n",
       "             ('network.0.bias',\n",
       "              tensor([ 0.6705, -0.2467, -0.1985,  0.3917,  0.1183])),\n",
       "             ('network.1.weight',\n",
       "              tensor([[-0.0808, -0.0069,  0.4396, -0.2364, -0.3674]])),\n",
       "             ('network.1.bias', tensor([-0.3274]))])"
      ]
     },
     "execution_count": 34,
     "metadata": {},
     "output_type": "execute_result"
    }
   ],
   "source": [
    "Model = CircleModel()\n",
    "Model.state_dict()"
   ]
  },
  {
   "cell_type": "code",
   "execution_count": 44,
   "metadata": {},
   "outputs": [
    {
     "name": "stdout",
     "output_type": "stream",
     "text": [
      "torch.Size([800, 1])-----torch.Size([800])\n",
      "tensor([[-0.],\n",
      "        [-0.],\n",
      "        [-1.],\n",
      "        [-1.],\n",
      "        [-1.],\n",
      "        [-1.],\n",
      "        [-1.],\n",
      "        [-1.],\n",
      "        [-1.],\n",
      "        [-0.]])\n",
      "tensor([[-0.4235],\n",
      "        [-0.3684],\n",
      "        [-0.6981],\n",
      "        [-0.6711],\n",
      "        [-0.7958],\n",
      "        [-0.6088],\n",
      "        [-0.8002],\n",
      "        [-0.6417],\n",
      "        [-0.8424],\n",
      "        [-0.3849]])\n"
     ]
    }
   ],
   "source": [
    "with torch.inference_mode():\n",
    "    u_pred = Model(X_train)\n",
    "print(f\"{u_pred.shape}-----{y_train.shape}\")\n",
    "u_pred == y_train\n",
    "print(torch.round(u_pred[:10]))\n",
    "print(u_pred[:10])"
   ]
  }
 ],
 "metadata": {
  "kernelspec": {
   "display_name": "Python 3",
   "language": "python",
   "name": "python3"
  },
  "language_info": {
   "codemirror_mode": {
    "name": "ipython",
    "version": 3
   },
   "file_extension": ".py",
   "mimetype": "text/x-python",
   "name": "python",
   "nbconvert_exporter": "python",
   "pygments_lexer": "ipython3",
   "version": "3.11.1"
  }
 },
 "nbformat": 4,
 "nbformat_minor": 2
}
